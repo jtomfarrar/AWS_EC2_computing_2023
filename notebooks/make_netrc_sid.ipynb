{
 "cells": [
  {
   "cell_type": "code",
   "execution_count": 1,
   "id": "522460d4-6ccd-4dd4-8b4b-803b45ea07e0",
   "metadata": {},
   "outputs": [],
   "source": [
    "#pwd"
   ]
  },
  {
   "cell_type": "code",
   "execution_count": 1,
   "id": "827b3873-2ede-489d-8a33-29ba896bcd7a",
   "metadata": {},
   "outputs": [],
   "source": [
    "import sys\n",
    "sys.path.append('../src/')\n",
    "\n",
    "import functions"
   ]
  },
  {
   "cell_type": "code",
   "execution_count": 2,
   "id": "0c46e0de-68ff-46d6-a9a7-73b8e5233960",
   "metadata": {},
   "outputs": [
    {
     "name": "stdout",
     "output_type": "stream",
     "text": [
      "valid netrc file found\n"
     ]
    }
   ],
   "source": [
    "netrc_file = functions.setup_netrc_file()"
   ]
  },
  {
   "cell_type": "code",
   "execution_count": null,
   "id": "1bff5768-dbfe-4496-9c74-e5270fda45ca",
   "metadata": {},
   "outputs": [],
   "source": []
  }
 ],
 "metadata": {
  "kernelspec": {
   "display_name": "Python 3 (ipykernel)",
   "language": "python",
   "name": "python3"
  },
  "language_info": {
   "codemirror_mode": {
    "name": "ipython",
    "version": 3
   },
   "file_extension": ".py",
   "mimetype": "text/x-python",
   "name": "python",
   "nbconvert_exporter": "python",
   "pygments_lexer": "ipython3",
   "version": "3.10.8"
  }
 },
 "nbformat": 4,
 "nbformat_minor": 5
}
