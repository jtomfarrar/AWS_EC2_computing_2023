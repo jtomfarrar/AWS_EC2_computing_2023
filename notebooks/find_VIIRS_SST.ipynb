{
 "cells": [
  {
   "cell_type": "markdown",
   "id": "d81220e4-17cb-41a4-9285-02dc93d50b3b",
   "metadata": {},
   "source": [
    "# Find clear scenes in high-resolution SST\n",
    "\n",
    "### Choose a target region and time period, cycle through all available high-resolution sea surface temperature data, identify clear images, catalog them \n",
    "\n",
    "https://github.com/NASA-Openscapes/nch2021-projects-contexdata\n",
    "\n",
    "- This builds on biavillasboas's notebook\n",
    "- We will use L3 VIIRS SST here, PO.DAAC short name \"VIIRS_NPP-OSPO-L3U-v2.61\"\n",
    "\n",
    "\n",
    "Issues/to-do:\n",
    "\n",
    "1. Processing a year of data consumes all the memory on a small cloud instance (when xr.open_mfdataset() is called)\n",
    "1. It seems like I am hitting a limit of the number of granules that can be returned by using requests.get to query 'https://cmr.earthdata.nasa.gov/search/granules'\n",
    "1. It would be nice to print/save a list of clear dates\n",
    "\n",
    "## Summary of what I learned \n",
    "\n",
    "1. Cloud computing is just using someone else’s computer.\n",
    "1. The place where there is an advantage to be had is when you can do cloud computing next to a huge amount of data\n",
    "1. If you must work locally, or on a different cloud than where the data are, data sets in the cloud are functionally just data sets on the web\n",
    "1. We can query the NASA Common Metadata Repository to find out the names and “concept ID” of datasets (url = 'https://cmr.earthdata.nasa.gov/search/collections.umm_json'); see example below in this notebook\n",
    "1. To download data (to cloud or local machine), you need a _netrc file (on windows) or .netrc file (on linux) to pass NASA EarthData credentials and get S3 access;—see Tutorial 4, https://github.com/NASA-Openscapes/2021-Cloud-Hackathon/blob/main/tutorials/04_NASA_Earthdata_Authentication.ipynb ; this is needed in “def begin_s3_direct_access()” below; for direct download, it would also be needed\n",
    "1. We were working in the Amazon Cloud using the “2i2c Hub Service”:\n",
    "https://openscapes.2i2c.cloud/hub/login?next=%2Fhub%2F\n"
   ]
  },
  {
   "cell_type": "code",
   "execution_count": 1,
   "id": "78ffcb6f-773a-4c26-ae37-fcea07c64bc6",
   "metadata": {},
   "outputs": [],
   "source": [
    "#!conda install -y -c conda-forge s3fs numpy pandas xarray matplotlib cartopy"
   ]
  },
  {
   "cell_type": "code",
   "execution_count": 2,
   "id": "a3b079b7-5265-41cd-a030-7a0900d031ed",
   "metadata": {},
   "outputs": [],
   "source": [
    "#!conda install -y -c conda-forge h5netcdf dask netCDF4 bottleneck"
   ]
  },
  {
   "cell_type": "code",
   "execution_count": 3,
   "id": "becoming-receptor",
   "metadata": {},
   "outputs": [],
   "source": [
    "#Pretty sure some of these are extraneous\n",
    "import s3fs\n",
    "import os\n",
    "import os.path\n",
    "import json\n",
    "import warnings\n",
    "import requests\n",
    "import numpy as np\n",
    "import pandas as pd\n",
    "import xarray as xr\n",
    "from io import StringIO\n",
    "\n",
    "import matplotlib.pyplot as plt\n",
    "import matplotlib\n",
    "from matplotlib.ticker import FormatStrFormatter\n",
    "from matplotlib import ticker, rc, cm\n",
    "\n",
    "import cartopy.crs as ccrs\n",
    "import cartopy.feature as cfeature\n",
    "import cartopy\n",
    "\n",
    "# import geoviews as gv\n",
    "# import hvplot.xarray\n",
    "# import holoviews as hv\n",
    "# gv.extension('bokeh', 'matplotlib')\n",
    "\n",
    "warnings.filterwarnings(\"ignore\")\n",
    "\n",
    "%matplotlib inline\n",
    "# %matplotlib qt5"
   ]
  },
  {
   "cell_type": "markdown",
   "id": "ce0eaa2f-7aa1-45ab-9410-a4463cf2819b",
   "metadata": {},
   "source": [
    "## Set some parameters (start/end time)\n"
   ]
  },
  {
   "cell_type": "code",
   "execution_count": 4,
   "id": "edd07a7e-ec5b-4a05-8215-485b46c9bd7b",
   "metadata": {},
   "outputs": [],
   "source": [
    "plt.rcParams['figure.figsize'] = (5,4)\n",
    "plt.rcParams['figure.dpi'] = 300\n",
    "plt.rcParams['savefig.dpi'] = 700"
   ]
  },
  {
   "cell_type": "markdown",
   "id": "a491e721-77e5-434b-b570-ff957ee4fb77",
   "metadata": {},
   "source": [
    "## PO DAAC Catalog exploration using the CMR API\n",
    "\n",
    "- The search is restricted to colections that have data over a given time window"
   ]
  },
  {
   "cell_type": "code",
   "execution_count": 5,
   "id": "829d8272-6d5b-4dbd-9780-7c0877a5c8f1",
   "metadata": {},
   "outputs": [
    {
     "data": {
      "text/plain": [
       "'241'"
      ]
     },
     "execution_count": 5,
     "metadata": {},
     "output_type": "execute_result"
    }
   ],
   "source": [
    "provider = 'POCLOUD'\n",
    "url = 'https://cmr.earthdata.nasa.gov/search/collections.umm_json'\n",
    "response = requests.get(url,\n",
    "                        params={\n",
    "                            'cloud_hosted': 'True',\n",
    "                            'has_granules': 'True',\n",
    "                            'provider': provider,\n",
    "                            'page_size': 500,\n",
    "                            'temporal': ['2021-10-01T10:00:00Z','2021-11-01T00:00:00Z'] \n",
    "                        },\n",
    "                        headers={\n",
    "                            'Accept': 'application/json'\n",
    "                        }\n",
    "                       )\n",
    "response.headers['cmr-hits']"
   ]
  },
  {
   "cell_type": "markdown",
   "id": "0ecdaeef-6cad-4917-a76e-1472c05e9bf0",
   "metadata": {},
   "source": [
    "### Loop through each response in the catalog and print the respective concept ID\n",
    "\n",
    "These are the data sets that cover the time period of interest"
   ]
  },
  {
   "cell_type": "code",
   "execution_count": 6,
   "id": "e9d49119-45f9-4f3c-868e-91216858f54d",
   "metadata": {},
   "outputs": [],
   "source": [
    "#  This will show short names and concept ids for all PO.DAAC data sets at this time\n",
    "if False:\n",
    "    for r in response.json()['items']:\n",
    "        print('{} ==> '.format(r['meta']['s3-links'][0].split('/')[1]), r['meta']['concept-id'])"
   ]
  },
  {
   "cell_type": "markdown",
   "id": "786d684a-72a9-487f-b2f5-ccdbe62d217d",
   "metadata": {},
   "source": [
    "### Loading credentials for direct access"
   ]
  },
  {
   "cell_type": "code",
   "execution_count": 7,
   "id": "ce790929-ed28-484e-9806-90952f5177a3",
   "metadata": {},
   "outputs": [
    {
     "data": {
      "text/plain": [
       "s3fs.core.S3FileSystem"
      ]
     },
     "execution_count": 7,
     "metadata": {},
     "output_type": "execute_result"
    }
   ],
   "source": [
    "def begin_s3_direct_access(url: str=\"https://archive.podaac.earthdata.nasa.gov/s3credentials\"):\n",
    "    response = requests.get(url).json()\n",
    "    return s3fs.S3FileSystem(key=response['accessKeyId'],\n",
    "                             secret=response['secretAccessKey'],\n",
    "                             token=response['sessionToken'],\n",
    "                             client_kwargs={'region_name':'us-west-2'})\n",
    "\n",
    "fs = begin_s3_direct_access()\n",
    "\n",
    "type(fs)"
   ]
  },
  {
   "cell_type": "code",
   "execution_count": 8,
   "id": "4988c841-cdc3-4700-b99f-e450e3108b59",
   "metadata": {},
   "outputs": [],
   "source": [
    "# Center location\n",
    "site = 'S-MODE'\n",
    "\n",
    "if site == 'S-MODE':\n",
    "    lon0 = -123.5\n",
    "    lat0 = 37.5 \n",
    "    dlon = 2.5 # half of box width in lon\n",
    "    dlat = 1.5 # half of box width in lat\n",
    "elif site == 'SPURS-2':\n",
    "    lon0 = -125\n",
    "    lat0 = 10\n",
    "    dlon = 1.5 # half of box width in lon\n",
    "    dlat = 1.5 # half of box width in lat\n",
    "elif site == 'SPURS-2':\n",
    "    lon0 = -38\n",
    "    lat0 = 25\n",
    "    dlon = 1.5 # half of box width in lon\n",
    "    dlat = 1.5 # half of box width in lat\n",
    "\n",
    "# Define the max/min lon\n",
    "lon_min = lon0 - dlon\n",
    "lon_max = lon0 + dlon\n",
    "lat_min = lat0 - dlat\n",
    "lat_max = lat0 + dlat"
   ]
  },
  {
   "cell_type": "code",
   "execution_count": 9,
   "id": "54c3850c-793a-48dc-9237-9edb6c43d16c",
   "metadata": {},
   "outputs": [],
   "source": [
    "if site == 'S-MODE':\n",
    "    start_time = '2021-10-20T00:00:00Z'\n",
    "    end_time = '2021-11-6T00:00:00Z'\n",
    "elif site == 'SPURS-2':\n",
    "    start_time = '2016-8-20T00:00:00Z'\n",
    "    end_time = '2017-11-6T00:00:00Z'\n",
    "elif site == 'SPURS-2':\n",
    "    start_time = '2012-9-15T00:00:00Z'\n",
    "    end_time = '2013-11-15T00:00:00Z'\n",
    "\n"
   ]
  },
  {
   "cell_type": "markdown",
   "id": "fb447843-8c9e-4daf-a2aa-ca16bd61074a",
   "metadata": {},
   "source": [
    "Maybe try these:\n",
    "\n",
    "https://podaac.jpl.nasa.gov/dataset/VIIRS_NPP-STAR-L3U-v2.80  \n",
    "'C2147485059-POCLOUD' #VIIRS_NPP-STAR-L3U-v2.80\n",
    "\n",
    "https://podaac.jpl.nasa.gov/dataset/VIIRS_N20-STAR-L3U-v2.80  \n",
    "'C2147488020-POCLOUD' #VIIRS_N20-STAR-L3U-v2.80"
   ]
  },
  {
   "cell_type": "code",
   "execution_count": 10,
   "id": "d7d8468f-4e59-4082-a5ac-b531352cc384",
   "metadata": {},
   "outputs": [
    {
     "name": "stdout",
     "output_type": "stream",
     "text": [
      "<Response [200]>\n",
      "96\n"
     ]
    }
   ],
   "source": [
    "url = 'https://cmr.earthdata.nasa.gov/search/granules'\n",
    "\n",
    "# VIIRS_NPP-OSPO-L2P-v2.61 ==>  C1996880725-POCLOUD\n",
    "concept_id = 'C2036880650-POCLOUD' #  MODIS\n",
    "concept_id = 'C2147478146-POCLOUD' #'C1996880725-POCLOUD' # VIIRS_NPP-OSPO-L2P-v2.61 \n",
    "# concept_id = 'C2036877595-POCLOUD' # VIIRS_NPP-OSPO-L3U-v2.61 \n",
    "concept_id = 'C2147488020-POCLOUD' #VIIRS_N20-STAR-L3U-v2.80\n",
    "response = requests.get(url, \n",
    "                        params={\n",
    "                            'concept_id': concept_id,\n",
    "                            'temporal': start_time+','+end_time,\n",
    "                            'bounding_box': '{},{},{},{}'.format(lon_min, lat_min, lon_max, lat_max),    \n",
    "                            'page_size': 500,\n",
    "                            },\n",
    "                        headers={\n",
    "                            'Accept': 'application/json'\n",
    "                            }\n",
    "                       )\n",
    "print(response)\n",
    "print(response.headers['CMR-Hits'])"
   ]
  },
  {
   "cell_type": "code",
   "execution_count": 19,
   "id": "69d38858-442d-4ba1-a11d-9632e12b6de0",
   "metadata": {},
   "outputs": [
    {
     "data": {
      "text/plain": [
       "96"
      ]
     },
     "execution_count": 19,
     "metadata": {},
     "output_type": "execute_result"
    }
   ],
   "source": [
    "granules_url = []\n",
    "for gran in response.json()['feed']['entry']:\n",
    "    granules_url.append(gran['links'][1]['href'])\n",
    "# granules_url\n",
    "len(granules_url)"
   ]
  },
  {
   "cell_type": "code",
   "execution_count": 20,
   "id": "7205bb16-4ac3-4ad0-bcb7-2ab93166de82",
   "metadata": {},
   "outputs": [
    {
     "data": {
      "text/plain": [
       "[{'rel': 'http://esipfed.org/ns/fedsearch/1.1/data#',\n",
       "  'title': 'Download 20211105222000-STAR-L3U_GHRSST-SSTsubskin-VIIRS_N20-ACSPO_V2.80-v02.0-fv01.0.nc',\n",
       "  'hreflang': 'en-US',\n",
       "  'href': 'https://archive.podaac.earthdata.nasa.gov/podaac-ops-cumulus-protected/VIIRS_N20-STAR-L3U-v2.80/20211105222000-STAR-L3U_GHRSST-SSTsubskin-VIIRS_N20-ACSPO_V2.80-v02.0-fv01.0.nc'},\n",
       " {'rel': 'http://esipfed.org/ns/fedsearch/1.1/s3#',\n",
       "  'title': 'This link provides direct download access via S3 to the granule',\n",
       "  'hreflang': 'en-US',\n",
       "  'href': 's3://podaac-ops-cumulus-protected/VIIRS_N20-STAR-L3U-v2.80/20211105222000-STAR-L3U_GHRSST-SSTsubskin-VIIRS_N20-ACSPO_V2.80-v02.0-fv01.0.nc'},\n",
       " {'rel': 'http://esipfed.org/ns/fedsearch/1.1/metadata#',\n",
       "  'title': 'Download 20211105222000-STAR-L3U_GHRSST-SSTsubskin-VIIRS_N20-ACSPO_V2.80-v02.0-fv01.0.nc.md5',\n",
       "  'hreflang': 'en-US',\n",
       "  'href': 'https://archive.podaac.earthdata.nasa.gov/podaac-ops-cumulus-public/VIIRS_N20-STAR-L3U-v2.80/20211105222000-STAR-L3U_GHRSST-SSTsubskin-VIIRS_N20-ACSPO_V2.80-v02.0-fv01.0.nc.md5'},\n",
       " {'rel': 'http://esipfed.org/ns/fedsearch/1.1/metadata#',\n",
       "  'title': 'This link provides direct download access via S3 to the granule',\n",
       "  'hreflang': 'en-US',\n",
       "  'href': 's3://podaac-ops-cumulus-public/VIIRS_N20-STAR-L3U-v2.80/20211105222000-STAR-L3U_GHRSST-SSTsubskin-VIIRS_N20-ACSPO_V2.80-v02.0-fv01.0.nc.md5'},\n",
       " {'rel': 'http://esipfed.org/ns/fedsearch/1.1/metadata#',\n",
       "  'title': 'api endpoint to retrieve temporary credentials valid for same-region direct s3 access',\n",
       "  'hreflang': 'en-US',\n",
       "  'href': 'https://archive.podaac.earthdata.nasa.gov/s3credentials'},\n",
       " {'rel': 'http://esipfed.org/ns/fedsearch/1.1/service#',\n",
       "  'title': 'OPeNDAP request URL',\n",
       "  'hreflang': 'en-US',\n",
       "  'href': 'https://opendap.earthdata.nasa.gov/collections/C2147488020-POCLOUD/granules/20211105222000-STAR-L3U_GHRSST-SSTsubskin-VIIRS_N20-ACSPO_V2.80-v02.0-fv01.0'},\n",
       " {'inherited': True,\n",
       "  'rel': 'http://esipfed.org/ns/fedsearch/1.1/documentation#',\n",
       "  'hreflang': 'en-US',\n",
       "  'href': 'https://archive.podaac.earthdata.nasa.gov/podaac-ops-cumulus-docs/ghrsst/open/docs/GDS20r5.pdf'},\n",
       " {'inherited': True,\n",
       "  'rel': 'http://esipfed.org/ns/fedsearch/1.1/documentation#',\n",
       "  'hreflang': 'en-US',\n",
       "  'href': 'https://www.star.nesdis.noaa.gov/sod/sst/iquam/'},\n",
       " {'inherited': True,\n",
       "  'rel': 'http://esipfed.org/ns/fedsearch/1.1/documentation#',\n",
       "  'hreflang': 'en-US',\n",
       "  'href': 'https://ghrsst.jpl.nasa.gov'},\n",
       " {'inherited': True,\n",
       "  'rel': 'http://esipfed.org/ns/fedsearch/1.1/documentation#',\n",
       "  'hreflang': 'en-US',\n",
       "  'href': 'https://podaac.jpl.nasa.gov/forum/viewtopic.php?f=7&t=298'},\n",
       " {'inherited': True,\n",
       "  'rel': 'http://esipfed.org/ns/fedsearch/1.1/documentation#',\n",
       "  'hreflang': 'en-US',\n",
       "  'href': 'https://www.star.nesdis.noaa.gov/sod/sst/micros/'},\n",
       " {'inherited': True,\n",
       "  'rel': 'http://esipfed.org/ns/fedsearch/1.1/documentation#',\n",
       "  'hreflang': 'en-US',\n",
       "  'href': 'https://github.com/podaac/data-readers'},\n",
       " {'inherited': True,\n",
       "  'rel': 'http://esipfed.org/ns/fedsearch/1.1/documentation#',\n",
       "  'hreflang': 'en-US',\n",
       "  'href': 'https://www.star.nesdis.noaa.gov/sod/sst/squam/'},\n",
       " {'inherited': True,\n",
       "  'rel': 'http://esipfed.org/ns/fedsearch/1.1/documentation#',\n",
       "  'hreflang': 'en-US',\n",
       "  'href': 'https://podaac.jpl.nasa.gov/CitingPODAAC'},\n",
       " {'inherited': True,\n",
       "  'length': '0.0MB',\n",
       "  'rel': 'http://esipfed.org/ns/fedsearch/1.1/data#',\n",
       "  'hreflang': 'en-US',\n",
       "  'href': 'https://cmr.earthdata.nasa.gov/virtual-directory/collections/C2147488020-POCLOUD'},\n",
       " {'inherited': True,\n",
       "  'length': '0.0MB',\n",
       "  'rel': 'http://esipfed.org/ns/fedsearch/1.1/data#',\n",
       "  'hreflang': 'en-US',\n",
       "  'href': 'https://search.earthdata.nasa.gov/search/granules?p=C2147488020-POCLOUD'},\n",
       " {'inherited': True,\n",
       "  'rel': 'http://esipfed.org/ns/fedsearch/1.1/documentation#',\n",
       "  'hreflang': 'en-US',\n",
       "  'href': 'https://www.ghrsst.org/'}]"
      ]
     },
     "execution_count": 20,
     "metadata": {},
     "output_type": "execute_result"
    }
   ],
   "source": [
    "gran['links']#['rel'=='http://esipfed.org/ns/fedsearch/1.1/s3#'];"
   ]
  },
  {
   "cell_type": "markdown",
   "id": "d28f5e28-6dd0-49a4-b268-d7f95962f639",
   "metadata": {},
   "source": [
    "## There is an inconvenient issue with these files.  The correct link is not in the same place for each of the granules\n",
    "\n",
    "This was an attempt to fix the issue by just dropping the md5 suffix.  That almost works, but the prefix should be something like:  \n",
    "s3://podaac-ops-cumulus-protected/ \n",
    "\n",
    "and not:  \n",
    "s3://podaac-ops-cumulus-public/"
   ]
  },
  {
   "cell_type": "code",
   "execution_count": 13,
   "id": "00d81593-e831-4ebd-9dfc-642bdd951789",
   "metadata": {},
   "outputs": [],
   "source": [
    "granules_url2 = []\n",
    "for gran in granules_url:\n",
    "    gran.replace('.md5','')\n",
    "    granules_url2.append(gran)\n"
   ]
  },
  {
   "cell_type": "code",
   "execution_count": 14,
   "id": "a15b5d08-acdd-44d0-b4a2-18a67c5d773d",
   "metadata": {},
   "outputs": [
    {
     "data": {
      "text/plain": [
       "['s3://podaac-ops-cumulus-protected/VIIRS_N20-STAR-L3U-v2.80/20211020092000-STAR-L3U_GHRSST-SSTsubskin-VIIRS_N20-ACSPO_V2.80-v02.0-fv01.0.nc',\n",
       " 's3://podaac-ops-cumulus-protected/VIIRS_N20-STAR-L3U-v2.80/20211020110000-STAR-L3U_GHRSST-SSTsubskin-VIIRS_N20-ACSPO_V2.80-v02.0-fv01.0.nc',\n",
       " 's3://podaac-ops-cumulus-protected/VIIRS_N20-STAR-L3U-v2.80/20211020190000-STAR-L3U_GHRSST-SSTsubskin-VIIRS_N20-ACSPO_V2.80-v02.0-fv01.0.nc',\n",
       " 's3://podaac-ops-cumulus-protected/VIIRS_N20-STAR-L3U-v2.80/20211020204000-STAR-L3U_GHRSST-SSTsubskin-VIIRS_N20-ACSPO_V2.80-v02.0-fv01.0.nc',\n",
       " 's3://podaac-ops-cumulus-public/VIIRS_N20-STAR-L3U-v2.80/20211020222000-STAR-L3U_GHRSST-SSTsubskin-VIIRS_N20-ACSPO_V2.80-v02.0-fv01.0.nc.md5',\n",
       " 's3://podaac-ops-cumulus-protected/VIIRS_N20-STAR-L3U-v2.80/20211021090000-STAR-L3U_GHRSST-SSTsubskin-VIIRS_N20-ACSPO_V2.80-v02.0-fv01.0.nc',\n",
       " 's3://podaac-ops-cumulus-protected/VIIRS_N20-STAR-L3U-v2.80/20211021104000-STAR-L3U_GHRSST-SSTsubskin-VIIRS_N20-ACSPO_V2.80-v02.0-fv01.0.nc',\n",
       " 's3://podaac-ops-cumulus-public/VIIRS_N20-STAR-L3U-v2.80/20211021122000-STAR-L3U_GHRSST-SSTsubskin-VIIRS_N20-ACSPO_V2.80-v02.0-fv01.0.nc.md5',\n",
       " 's3://podaac-ops-cumulus-protected/VIIRS_N20-STAR-L3U-v2.80/20211021202000-STAR-L3U_GHRSST-SSTsubskin-VIIRS_N20-ACSPO_V2.80-v02.0-fv01.0.nc',\n",
       " 's3://podaac-ops-cumulus-protected/VIIRS_N20-STAR-L3U-v2.80/20211021220000-STAR-L3U_GHRSST-SSTsubskin-VIIRS_N20-ACSPO_V2.80-v02.0-fv01.0.nc',\n",
       " 's3://podaac-ops-cumulus-protected/VIIRS_N20-STAR-L3U-v2.80/20211022084000-STAR-L3U_GHRSST-SSTsubskin-VIIRS_N20-ACSPO_V2.80-v02.0-fv01.0.nc',\n",
       " 's3://podaac-ops-cumulus-public/VIIRS_N20-STAR-L3U-v2.80/20211022102000-STAR-L3U_GHRSST-SSTsubskin-VIIRS_N20-ACSPO_V2.80-v02.0-fv01.0.nc.md5',\n",
       " 's3://podaac-ops-cumulus-protected/VIIRS_N20-STAR-L3U-v2.80/20211022120000-STAR-L3U_GHRSST-SSTsubskin-VIIRS_N20-ACSPO_V2.80-v02.0-fv01.0.nc',\n",
       " 's3://podaac-ops-cumulus-public/VIIRS_N20-STAR-L3U-v2.80/20211022134000-STAR-L3U_GHRSST-SSTsubskin-VIIRS_N20-ACSPO_V2.80-v02.0-fv01.0.nc.md5',\n",
       " 's3://podaac-ops-cumulus-protected/VIIRS_N20-STAR-L3U-v2.80/20211022200000-STAR-L3U_GHRSST-SSTsubskin-VIIRS_N20-ACSPO_V2.80-v02.0-fv01.0.nc',\n",
       " 's3://podaac-ops-cumulus-public/VIIRS_N20-STAR-L3U-v2.80/20211022214000-STAR-L3U_GHRSST-SSTsubskin-VIIRS_N20-ACSPO_V2.80-v02.0-fv01.0.nc.md5',\n",
       " 's3://podaac-ops-cumulus-protected/VIIRS_N20-STAR-L3U-v2.80/20211022215000-STAR-L3U_GHRSST-SSTsubskin-VIIRS_N20-ACSPO_V2.80-v02.0-fv01.0.nc',\n",
       " 's3://podaac-ops-cumulus-public/VIIRS_N20-STAR-L3U-v2.80/20211023100000-STAR-L3U_GHRSST-SSTsubskin-VIIRS_N20-ACSPO_V2.80-v02.0-fv01.0.nc.md5',\n",
       " 's3://podaac-ops-cumulus-public/VIIRS_N20-STAR-L3U-v2.80/20211023114000-STAR-L3U_GHRSST-SSTsubskin-VIIRS_N20-ACSPO_V2.80-v02.0-fv01.0.nc.md5',\n",
       " 's3://podaac-ops-cumulus-protected/VIIRS_N20-STAR-L3U-v2.80/20211023194000-STAR-L3U_GHRSST-SSTsubskin-VIIRS_N20-ACSPO_V2.80-v02.0-fv01.0.nc',\n",
       " 's3://podaac-ops-cumulus-public/VIIRS_N20-STAR-L3U-v2.80/20211023195000-STAR-L3U_GHRSST-SSTsubskin-VIIRS_N20-ACSPO_V2.80-v02.0-fv01.0.nc.md5',\n",
       " 's3://podaac-ops-cumulus-public/VIIRS_N20-STAR-L3U-v2.80/20211023212000-STAR-L3U_GHRSST-SSTsubskin-VIIRS_N20-ACSPO_V2.80-v02.0-fv01.0.nc.md5',\n",
       " 's3://podaac-ops-cumulus-public/VIIRS_N20-STAR-L3U-v2.80/20211023213000-STAR-L3U_GHRSST-SSTsubskin-VIIRS_N20-ACSPO_V2.80-v02.0-fv01.0.nc.md5',\n",
       " 's3://podaac-ops-cumulus-public/VIIRS_N20-STAR-L3U-v2.80/20211024094000-STAR-L3U_GHRSST-SSTsubskin-VIIRS_N20-ACSPO_V2.80-v02.0-fv01.0.nc.md5',\n",
       " 's3://podaac-ops-cumulus-protected/VIIRS_N20-STAR-L3U-v2.80/20211024095000-STAR-L3U_GHRSST-SSTsubskin-VIIRS_N20-ACSPO_V2.80-v02.0-fv01.0.nc',\n",
       " 's3://podaac-ops-cumulus-public/VIIRS_N20-STAR-L3U-v2.80/20211024112000-STAR-L3U_GHRSST-SSTsubskin-VIIRS_N20-ACSPO_V2.80-v02.0-fv01.0.nc.md5',\n",
       " 's3://podaac-ops-cumulus-protected/VIIRS_N20-STAR-L3U-v2.80/20211024193000-STAR-L3U_GHRSST-SSTsubskin-VIIRS_N20-ACSPO_V2.80-v02.0-fv01.0.nc',\n",
       " 's3://podaac-ops-cumulus-public/VIIRS_N20-STAR-L3U-v2.80/20211024211000-STAR-L3U_GHRSST-SSTsubskin-VIIRS_N20-ACSPO_V2.80-v02.0-fv01.0.nc.md5',\n",
       " 's3://podaac-ops-cumulus-public/VIIRS_N20-STAR-L3U-v2.80/20211025092000-STAR-L3U_GHRSST-SSTsubskin-VIIRS_N20-ACSPO_V2.80-v02.0-fv01.0.nc.md5',\n",
       " 's3://podaac-ops-cumulus-protected/VIIRS_N20-STAR-L3U-v2.80/20211025093000-STAR-L3U_GHRSST-SSTsubskin-VIIRS_N20-ACSPO_V2.80-v02.0-fv01.0.nc',\n",
       " 's3://podaac-ops-cumulus-protected/VIIRS_N20-STAR-L3U-v2.80/20211025111000-STAR-L3U_GHRSST-SSTsubskin-VIIRS_N20-ACSPO_V2.80-v02.0-fv01.0.nc',\n",
       " 's3://podaac-ops-cumulus-public/VIIRS_N20-STAR-L3U-v2.80/20211025173000-STAR-L3U_GHRSST-SSTsubskin-VIIRS_N20-ACSPO_V2.80-v02.0-fv01.0.nc.md5',\n",
       " 's3://podaac-ops-cumulus-protected/VIIRS_N20-STAR-L3U-v2.80/20211025191000-STAR-L3U_GHRSST-SSTsubskin-VIIRS_N20-ACSPO_V2.80-v02.0-fv01.0.nc',\n",
       " 's3://podaac-ops-cumulus-protected/VIIRS_N20-STAR-L3U-v2.80/20211025205000-STAR-L3U_GHRSST-SSTsubskin-VIIRS_N20-ACSPO_V2.80-v02.0-fv01.0.nc',\n",
       " 's3://podaac-ops-cumulus-public/VIIRS_N20-STAR-L3U-v2.80/20211025223000-STAR-L3U_GHRSST-SSTsubskin-VIIRS_N20-ACSPO_V2.80-v02.0-fv01.0.nc.md5',\n",
       " 's3://podaac-ops-cumulus-protected/VIIRS_N20-STAR-L3U-v2.80/20211026091000-STAR-L3U_GHRSST-SSTsubskin-VIIRS_N20-ACSPO_V2.80-v02.0-fv01.0.nc',\n",
       " 's3://podaac-ops-cumulus-public/VIIRS_N20-STAR-L3U-v2.80/20211026105000-STAR-L3U_GHRSST-SSTsubskin-VIIRS_N20-ACSPO_V2.80-v02.0-fv01.0.nc.md5',\n",
       " 's3://podaac-ops-cumulus-public/VIIRS_N20-STAR-L3U-v2.80/20211026185000-STAR-L3U_GHRSST-SSTsubskin-VIIRS_N20-ACSPO_V2.80-v02.0-fv01.0.nc.md5',\n",
       " 's3://podaac-ops-cumulus-public/VIIRS_N20-STAR-L3U-v2.80/20211026203000-STAR-L3U_GHRSST-SSTsubskin-VIIRS_N20-ACSPO_V2.80-v02.0-fv01.0.nc.md5',\n",
       " 's3://podaac-ops-cumulus-protected/VIIRS_N20-STAR-L3U-v2.80/20211026221000-STAR-L3U_GHRSST-SSTsubskin-VIIRS_N20-ACSPO_V2.80-v02.0-fv01.0.nc',\n",
       " 's3://podaac-ops-cumulus-public/VIIRS_N20-STAR-L3U-v2.80/20211027085000-STAR-L3U_GHRSST-SSTsubskin-VIIRS_N20-ACSPO_V2.80-v02.0-fv01.0.nc.md5',\n",
       " 's3://podaac-ops-cumulus-protected/VIIRS_N20-STAR-L3U-v2.80/20211027103000-STAR-L3U_GHRSST-SSTsubskin-VIIRS_N20-ACSPO_V2.80-v02.0-fv01.0.nc',\n",
       " 's3://podaac-ops-cumulus-public/VIIRS_N20-STAR-L3U-v2.80/20211027201000-STAR-L3U_GHRSST-SSTsubskin-VIIRS_N20-ACSPO_V2.80-v02.0-fv01.0.nc.md5',\n",
       " 's3://podaac-ops-cumulus-public/VIIRS_N20-STAR-L3U-v2.80/20211027215000-STAR-L3U_GHRSST-SSTsubskin-VIIRS_N20-ACSPO_V2.80-v02.0-fv01.0.nc.md5',\n",
       " 's3://podaac-ops-cumulus-public/VIIRS_N20-STAR-L3U-v2.80/20211028101000-STAR-L3U_GHRSST-SSTsubskin-VIIRS_N20-ACSPO_V2.80-v02.0-fv01.0.nc.md5',\n",
       " 's3://podaac-ops-cumulus-protected/VIIRS_N20-STAR-L3U-v2.80/20211028115000-STAR-L3U_GHRSST-SSTsubskin-VIIRS_N20-ACSPO_V2.80-v02.0-fv01.0.nc',\n",
       " 's3://podaac-ops-cumulus-protected/VIIRS_N20-STAR-L3U-v2.80/20211028195000-STAR-L3U_GHRSST-SSTsubskin-VIIRS_N20-ACSPO_V2.80-v02.0-fv01.0.nc',\n",
       " 's3://podaac-ops-cumulus-public/VIIRS_N20-STAR-L3U-v2.80/20211028213000-STAR-L3U_GHRSST-SSTsubskin-VIIRS_N20-ACSPO_V2.80-v02.0-fv01.0.nc.md5',\n",
       " 's3://podaac-ops-cumulus-protected/VIIRS_N20-STAR-L3U-v2.80/20211029095000-STAR-L3U_GHRSST-SSTsubskin-VIIRS_N20-ACSPO_V2.80-v02.0-fv01.0.nc',\n",
       " 's3://podaac-ops-cumulus-public/VIIRS_N20-STAR-L3U-v2.80/20211029113000-STAR-L3U_GHRSST-SSTsubskin-VIIRS_N20-ACSPO_V2.80-v02.0-fv01.0.nc.md5',\n",
       " 's3://podaac-ops-cumulus-public/VIIRS_N20-STAR-L3U-v2.80/20211029193000-STAR-L3U_GHRSST-SSTsubskin-VIIRS_N20-ACSPO_V2.80-v02.0-fv01.0.nc.md5',\n",
       " 's3://podaac-ops-cumulus-public/VIIRS_N20-STAR-L3U-v2.80/20211029211000-STAR-L3U_GHRSST-SSTsubskin-VIIRS_N20-ACSPO_V2.80-v02.0-fv01.0.nc.md5',\n",
       " 's3://podaac-ops-cumulus-protected/VIIRS_N20-STAR-L3U-v2.80/20211029230000-STAR-L3U_GHRSST-SSTsubskin-VIIRS_N20-ACSPO_V2.80-v02.0-fv01.0.nc',\n",
       " 's3://podaac-ops-cumulus-protected/VIIRS_N20-STAR-L3U-v2.80/20211030093000-STAR-L3U_GHRSST-SSTsubskin-VIIRS_N20-ACSPO_V2.80-v02.0-fv01.0.nc',\n",
       " 's3://podaac-ops-cumulus-public/VIIRS_N20-STAR-L3U-v2.80/20211030111000-STAR-L3U_GHRSST-SSTsubskin-VIIRS_N20-ACSPO_V2.80-v02.0-fv01.0.nc.md5',\n",
       " 's3://podaac-ops-cumulus-public/VIIRS_N20-STAR-L3U-v2.80/20211030125000-STAR-L3U_GHRSST-SSTsubskin-VIIRS_N20-ACSPO_V2.80-v02.0-fv01.0.nc.md5',\n",
       " 's3://podaac-ops-cumulus-protected/VIIRS_N20-STAR-L3U-v2.80/20211030205000-STAR-L3U_GHRSST-SSTsubskin-VIIRS_N20-ACSPO_V2.80-v02.0-fv01.0.nc',\n",
       " 's3://podaac-ops-cumulus-public/VIIRS_N20-STAR-L3U-v2.80/20211030223000-STAR-L3U_GHRSST-SSTsubskin-VIIRS_N20-ACSPO_V2.80-v02.0-fv01.0.nc.md5',\n",
       " 's3://podaac-ops-cumulus-public/VIIRS_N20-STAR-L3U-v2.80/20211030224000-STAR-L3U_GHRSST-SSTsubskin-VIIRS_N20-ACSPO_V2.80-v02.0-fv01.0.nc.md5',\n",
       " 's3://podaac-ops-cumulus-public/VIIRS_N20-STAR-L3U-v2.80/20211031091000-STAR-L3U_GHRSST-SSTsubskin-VIIRS_N20-ACSPO_V2.80-v02.0-fv01.0.nc.md5',\n",
       " 's3://podaac-ops-cumulus-public/VIIRS_N20-STAR-L3U-v2.80/20211031105000-STAR-L3U_GHRSST-SSTsubskin-VIIRS_N20-ACSPO_V2.80-v02.0-fv01.0.nc.md5',\n",
       " 's3://podaac-ops-cumulus-protected/VIIRS_N20-STAR-L3U-v2.80/20211031110000-STAR-L3U_GHRSST-SSTsubskin-VIIRS_N20-ACSPO_V2.80-v02.0-fv01.0.nc',\n",
       " 's3://podaac-ops-cumulus-public/VIIRS_N20-STAR-L3U-v2.80/20211031123000-STAR-L3U_GHRSST-SSTsubskin-VIIRS_N20-ACSPO_V2.80-v02.0-fv01.0.nc.md5',\n",
       " 's3://podaac-ops-cumulus-protected/VIIRS_N20-STAR-L3U-v2.80/20211031203000-STAR-L3U_GHRSST-SSTsubskin-VIIRS_N20-ACSPO_V2.80-v02.0-fv01.0.nc',\n",
       " 's3://podaac-ops-cumulus-protected/VIIRS_N20-STAR-L3U-v2.80/20211031204000-STAR-L3U_GHRSST-SSTsubskin-VIIRS_N20-ACSPO_V2.80-v02.0-fv01.0.nc',\n",
       " 's3://podaac-ops-cumulus-protected/VIIRS_N20-STAR-L3U-v2.80/20211031221000-STAR-L3U_GHRSST-SSTsubskin-VIIRS_N20-ACSPO_V2.80-v02.0-fv01.0.nc',\n",
       " 's3://podaac-ops-cumulus-public/VIIRS_N20-STAR-L3U-v2.80/20211031222000-STAR-L3U_GHRSST-SSTsubskin-VIIRS_N20-ACSPO_V2.80-v02.0-fv01.0.nc.md5',\n",
       " 's3://podaac-ops-cumulus-public/VIIRS_N20-STAR-L3U-v2.80/20211101085000-STAR-L3U_GHRSST-SSTsubskin-VIIRS_N20-ACSPO_V2.80-v02.0-fv01.0.nc.md5',\n",
       " 's3://podaac-ops-cumulus-public/VIIRS_N20-STAR-L3U-v2.80/20211101103000-STAR-L3U_GHRSST-SSTsubskin-VIIRS_N20-ACSPO_V2.80-v02.0-fv01.0.nc.md5',\n",
       " 's3://podaac-ops-cumulus-public/VIIRS_N20-STAR-L3U-v2.80/20211101104000-STAR-L3U_GHRSST-SSTsubskin-VIIRS_N20-ACSPO_V2.80-v02.0-fv01.0.nc.md5',\n",
       " 's3://podaac-ops-cumulus-protected/VIIRS_N20-STAR-L3U-v2.80/20211101184000-STAR-L3U_GHRSST-SSTsubskin-VIIRS_N20-ACSPO_V2.80-v02.0-fv01.0.nc',\n",
       " 's3://podaac-ops-cumulus-public/VIIRS_N20-STAR-L3U-v2.80/20211101201000-STAR-L3U_GHRSST-SSTsubskin-VIIRS_N20-ACSPO_V2.80-v02.0-fv01.0.nc.md5',\n",
       " 's3://podaac-ops-cumulus-protected/VIIRS_N20-STAR-L3U-v2.80/20211101202000-STAR-L3U_GHRSST-SSTsubskin-VIIRS_N20-ACSPO_V2.80-v02.0-fv01.0.nc',\n",
       " 's3://podaac-ops-cumulus-public/VIIRS_N20-STAR-L3U-v2.80/20211101220000-STAR-L3U_GHRSST-SSTsubskin-VIIRS_N20-ACSPO_V2.80-v02.0-fv01.0.nc.md5',\n",
       " 's3://podaac-ops-cumulus-protected/VIIRS_N20-STAR-L3U-v2.80/20211102083000-STAR-L3U_GHRSST-SSTsubskin-VIIRS_N20-ACSPO_V2.80-v02.0-fv01.0.nc',\n",
       " 's3://podaac-ops-cumulus-protected/VIIRS_N20-STAR-L3U-v2.80/20211102084000-STAR-L3U_GHRSST-SSTsubskin-VIIRS_N20-ACSPO_V2.80-v02.0-fv01.0.nc',\n",
       " 's3://podaac-ops-cumulus-public/VIIRS_N20-STAR-L3U-v2.80/20211102101000-STAR-L3U_GHRSST-SSTsubskin-VIIRS_N20-ACSPO_V2.80-v02.0-fv01.0.nc.md5',\n",
       " 's3://podaac-ops-cumulus-protected/VIIRS_N20-STAR-L3U-v2.80/20211102102000-STAR-L3U_GHRSST-SSTsubskin-VIIRS_N20-ACSPO_V2.80-v02.0-fv01.0.nc',\n",
       " 's3://podaac-ops-cumulus-public/VIIRS_N20-STAR-L3U-v2.80/20211102182000-STAR-L3U_GHRSST-SSTsubskin-VIIRS_N20-ACSPO_V2.80-v02.0-fv01.0.nc.md5',\n",
       " 's3://podaac-ops-cumulus-protected/VIIRS_N20-STAR-L3U-v2.80/20211102200000-STAR-L3U_GHRSST-SSTsubskin-VIIRS_N20-ACSPO_V2.80-v02.0-fv01.0.nc',\n",
       " 's3://podaac-ops-cumulus-protected/VIIRS_N20-STAR-L3U-v2.80/20211102214000-STAR-L3U_GHRSST-SSTsubskin-VIIRS_N20-ACSPO_V2.80-v02.0-fv01.0.nc',\n",
       " 's3://podaac-ops-cumulus-protected/VIIRS_N20-STAR-L3U-v2.80/20211103081000-STAR-L3U_GHRSST-SSTsubskin-VIIRS_N20-ACSPO_V2.80-v02.0-fv01.0.nc',\n",
       " 's3://podaac-ops-cumulus-protected/VIIRS_N20-STAR-L3U-v2.80/20211103100000-STAR-L3U_GHRSST-SSTsubskin-VIIRS_N20-ACSPO_V2.80-v02.0-fv01.0.nc',\n",
       " 's3://podaac-ops-cumulus-public/VIIRS_N20-STAR-L3U-v2.80/20211103114000-STAR-L3U_GHRSST-SSTsubskin-VIIRS_N20-ACSPO_V2.80-v02.0-fv01.0.nc.md5',\n",
       " 's3://podaac-ops-cumulus-protected/VIIRS_N20-STAR-L3U-v2.80/20211103180000-STAR-L3U_GHRSST-SSTsubskin-VIIRS_N20-ACSPO_V2.80-v02.0-fv01.0.nc',\n",
       " 's3://podaac-ops-cumulus-protected/VIIRS_N20-STAR-L3U-v2.80/20211103194000-STAR-L3U_GHRSST-SSTsubskin-VIIRS_N20-ACSPO_V2.80-v02.0-fv01.0.nc',\n",
       " 's3://podaac-ops-cumulus-public/VIIRS_N20-STAR-L3U-v2.80/20211103212000-STAR-L3U_GHRSST-SSTsubskin-VIIRS_N20-ACSPO_V2.80-v02.0-fv01.0.nc.md5',\n",
       " 's3://podaac-ops-cumulus-protected/VIIRS_N20-STAR-L3U-v2.80/20211104094000-STAR-L3U_GHRSST-SSTsubskin-VIIRS_N20-ACSPO_V2.80-v02.0-fv01.0.nc',\n",
       " 's3://podaac-ops-cumulus-public/VIIRS_N20-STAR-L3U-v2.80/20211104112000-STAR-L3U_GHRSST-SSTsubskin-VIIRS_N20-ACSPO_V2.80-v02.0-fv01.0.nc.md5',\n",
       " 's3://podaac-ops-cumulus-public/VIIRS_N20-STAR-L3U-v2.80/20211104192000-STAR-L3U_GHRSST-SSTsubskin-VIIRS_N20-ACSPO_V2.80-v02.0-fv01.0.nc.md5',\n",
       " 's3://podaac-ops-cumulus-public/VIIRS_N20-STAR-L3U-v2.80/20211104210000-STAR-L3U_GHRSST-SSTsubskin-VIIRS_N20-ACSPO_V2.80-v02.0-fv01.0.nc.md5',\n",
       " 's3://podaac-ops-cumulus-protected/VIIRS_N20-STAR-L3U-v2.80/20211105092000-STAR-L3U_GHRSST-SSTsubskin-VIIRS_N20-ACSPO_V2.80-v02.0-fv01.0.nc',\n",
       " 's3://podaac-ops-cumulus-protected/VIIRS_N20-STAR-L3U-v2.80/20211105110000-STAR-L3U_GHRSST-SSTsubskin-VIIRS_N20-ACSPO_V2.80-v02.0-fv01.0.nc',\n",
       " 's3://podaac-ops-cumulus-protected/VIIRS_N20-STAR-L3U-v2.80/20211105190000-STAR-L3U_GHRSST-SSTsubskin-VIIRS_N20-ACSPO_V2.80-v02.0-fv01.0.nc',\n",
       " 's3://podaac-ops-cumulus-public/VIIRS_N20-STAR-L3U-v2.80/20211105204000-STAR-L3U_GHRSST-SSTsubskin-VIIRS_N20-ACSPO_V2.80-v02.0-fv01.0.nc.md5',\n",
       " 's3://podaac-ops-cumulus-protected/VIIRS_N20-STAR-L3U-v2.80/20211105222000-STAR-L3U_GHRSST-SSTsubskin-VIIRS_N20-ACSPO_V2.80-v02.0-fv01.0.nc']"
      ]
     },
     "execution_count": 14,
     "metadata": {},
     "output_type": "execute_result"
    }
   ],
   "source": [
    "granules_url2"
   ]
  },
  {
   "cell_type": "markdown",
   "id": "9b954d73-7a32-4ca5-9d69-4aadddab6e3b",
   "metadata": {},
   "source": [
    "## Plot all SST images available during the S-MODE windows and pick good days"
   ]
  },
  {
   "cell_type": "markdown",
   "id": "23849526-0d73-4438-b720-5ecb5d72181c",
   "metadata": {},
   "source": [
    "Load in the data with xarray.open_mfdataset().  The one trick for the s3 access here is to use list comprehension to modify the list of granule URLs into a list of open s3 files before passing to xr.open_mfdataset().  \n",
    "\n",
    "_(Is that description correct??)_"
   ]
  },
  {
   "cell_type": "code",
   "execution_count": 15,
   "id": "4d777b3b-a4e6-4f53-a5c1-5515a83d5668",
   "metadata": {},
   "outputs": [],
   "source": [
    "# This loads a single file\n",
    "ds = xr.open_dataset(fs.open(granules_url[1]),drop_variables=['dt_analysis','satellite_zenith_angle','sses_bias','wind speed']).sel(lon=slice(lon_min,lon_max), lat=slice(lat_max,lat_min))"
   ]
  },
  {
   "cell_type": "code",
   "execution_count": 16,
   "id": "b031b2cf-532a-4f18-9496-0df508ad5162",
   "metadata": {},
   "outputs": [],
   "source": [
    "file_list =  [fs.open(file) for file in granules_url2]"
   ]
  },
  {
   "cell_type": "code",
   "execution_count": 17,
   "id": "11c4ee85-f12c-4122-9201-94c3e6f2a626",
   "metadata": {},
   "outputs": [
    {
     "ename": "ValueError",
     "evalue": "did not find a match in any of xarray's currently installed IO backends ['netcdf4', 'h5netcdf', 'scipy']. Consider explicitly selecting one of the installed engines via the ``engine`` parameter, or installing additional IO dependencies, see:\nhttps://docs.xarray.dev/en/stable/getting-started-guide/installing.html\nhttps://docs.xarray.dev/en/stable/user-guide/io.html",
     "output_type": "error",
     "traceback": [
      "\u001b[0;31m---------------------------------------------------------------------------\u001b[0m",
      "\u001b[0;31mValueError\u001b[0m                                Traceback (most recent call last)",
      "Cell \u001b[0;32mIn[17], line 1\u001b[0m\n\u001b[0;32m----> 1\u001b[0m ds \u001b[38;5;241m=\u001b[39m \u001b[43mxr\u001b[49m\u001b[38;5;241;43m.\u001b[39;49m\u001b[43mopen_mfdataset\u001b[49m\u001b[43m(\u001b[49m\u001b[43mfile_list\u001b[49m\u001b[43m,\u001b[49m\u001b[43mdrop_variables\u001b[49m\u001b[38;5;241;43m=\u001b[39;49m\u001b[43m[\u001b[49m\u001b[38;5;124;43m'\u001b[39;49m\u001b[38;5;124;43mdt_analysis\u001b[39;49m\u001b[38;5;124;43m'\u001b[39;49m\u001b[43m,\u001b[49m\u001b[38;5;124;43m'\u001b[39;49m\u001b[38;5;124;43msatellite_zenith_angle\u001b[39;49m\u001b[38;5;124;43m'\u001b[39;49m\u001b[43m,\u001b[49m\u001b[38;5;124;43m'\u001b[39;49m\u001b[38;5;124;43msses_bias\u001b[39;49m\u001b[38;5;124;43m'\u001b[39;49m\u001b[43m,\u001b[49m\u001b[38;5;124;43m'\u001b[39;49m\u001b[38;5;124;43mwind speed\u001b[39;49m\u001b[38;5;124;43m'\u001b[39;49m\u001b[43m]\u001b[49m\u001b[43m)\u001b[49m\u001b[38;5;241m.\u001b[39msel(lon\u001b[38;5;241m=\u001b[39m\u001b[38;5;28mslice\u001b[39m(lon_min,lon_max), lat\u001b[38;5;241m=\u001b[39m\u001b[38;5;28mslice\u001b[39m(lat_max,lat_min))\n",
      "File \u001b[0;32m~/miniconda3/lib/python3.10/site-packages/xarray/backends/api.py:997\u001b[0m, in \u001b[0;36mopen_mfdataset\u001b[0;34m(paths, chunks, concat_dim, compat, preprocess, engine, data_vars, coords, combine, parallel, join, attrs_file, combine_attrs, **kwargs)\u001b[0m\n\u001b[1;32m    994\u001b[0m     open_ \u001b[38;5;241m=\u001b[39m open_dataset\n\u001b[1;32m    995\u001b[0m     getattr_ \u001b[38;5;241m=\u001b[39m \u001b[38;5;28mgetattr\u001b[39m\n\u001b[0;32m--> 997\u001b[0m datasets \u001b[38;5;241m=\u001b[39m [open_(p, \u001b[38;5;241m*\u001b[39m\u001b[38;5;241m*\u001b[39mopen_kwargs) \u001b[38;5;28;01mfor\u001b[39;00m p \u001b[38;5;129;01min\u001b[39;00m paths]\n\u001b[1;32m    998\u001b[0m closers \u001b[38;5;241m=\u001b[39m [getattr_(ds, \u001b[38;5;124m\"\u001b[39m\u001b[38;5;124m_close\u001b[39m\u001b[38;5;124m\"\u001b[39m) \u001b[38;5;28;01mfor\u001b[39;00m ds \u001b[38;5;129;01min\u001b[39;00m datasets]\n\u001b[1;32m    999\u001b[0m \u001b[38;5;28;01mif\u001b[39;00m preprocess \u001b[38;5;129;01mis\u001b[39;00m \u001b[38;5;129;01mnot\u001b[39;00m \u001b[38;5;28;01mNone\u001b[39;00m:\n",
      "File \u001b[0;32m~/miniconda3/lib/python3.10/site-packages/xarray/backends/api.py:997\u001b[0m, in \u001b[0;36m<listcomp>\u001b[0;34m(.0)\u001b[0m\n\u001b[1;32m    994\u001b[0m     open_ \u001b[38;5;241m=\u001b[39m open_dataset\n\u001b[1;32m    995\u001b[0m     getattr_ \u001b[38;5;241m=\u001b[39m \u001b[38;5;28mgetattr\u001b[39m\n\u001b[0;32m--> 997\u001b[0m datasets \u001b[38;5;241m=\u001b[39m [\u001b[43mopen_\u001b[49m\u001b[43m(\u001b[49m\u001b[43mp\u001b[49m\u001b[43m,\u001b[49m\u001b[43m \u001b[49m\u001b[38;5;241;43m*\u001b[39;49m\u001b[38;5;241;43m*\u001b[39;49m\u001b[43mopen_kwargs\u001b[49m\u001b[43m)\u001b[49m \u001b[38;5;28;01mfor\u001b[39;00m p \u001b[38;5;129;01min\u001b[39;00m paths]\n\u001b[1;32m    998\u001b[0m closers \u001b[38;5;241m=\u001b[39m [getattr_(ds, \u001b[38;5;124m\"\u001b[39m\u001b[38;5;124m_close\u001b[39m\u001b[38;5;124m\"\u001b[39m) \u001b[38;5;28;01mfor\u001b[39;00m ds \u001b[38;5;129;01min\u001b[39;00m datasets]\n\u001b[1;32m    999\u001b[0m \u001b[38;5;28;01mif\u001b[39;00m preprocess \u001b[38;5;129;01mis\u001b[39;00m \u001b[38;5;129;01mnot\u001b[39;00m \u001b[38;5;28;01mNone\u001b[39;00m:\n",
      "File \u001b[0;32m~/miniconda3/lib/python3.10/site-packages/xarray/backends/api.py:524\u001b[0m, in \u001b[0;36mopen_dataset\u001b[0;34m(filename_or_obj, engine, chunks, cache, decode_cf, mask_and_scale, decode_times, decode_timedelta, use_cftime, concat_characters, decode_coords, drop_variables, inline_array, backend_kwargs, **kwargs)\u001b[0m\n\u001b[1;32m    521\u001b[0m     kwargs\u001b[38;5;241m.\u001b[39mupdate(backend_kwargs)\n\u001b[1;32m    523\u001b[0m \u001b[38;5;28;01mif\u001b[39;00m engine \u001b[38;5;129;01mis\u001b[39;00m \u001b[38;5;28;01mNone\u001b[39;00m:\n\u001b[0;32m--> 524\u001b[0m     engine \u001b[38;5;241m=\u001b[39m \u001b[43mplugins\u001b[49m\u001b[38;5;241;43m.\u001b[39;49m\u001b[43mguess_engine\u001b[49m\u001b[43m(\u001b[49m\u001b[43mfilename_or_obj\u001b[49m\u001b[43m)\u001b[49m\n\u001b[1;32m    526\u001b[0m backend \u001b[38;5;241m=\u001b[39m plugins\u001b[38;5;241m.\u001b[39mget_backend(engine)\n\u001b[1;32m    528\u001b[0m decoders \u001b[38;5;241m=\u001b[39m _resolve_decoders_kwargs(\n\u001b[1;32m    529\u001b[0m     decode_cf,\n\u001b[1;32m    530\u001b[0m     open_backend_dataset_parameters\u001b[38;5;241m=\u001b[39mbackend\u001b[38;5;241m.\u001b[39mopen_dataset_parameters,\n\u001b[0;32m   (...)\u001b[0m\n\u001b[1;32m    536\u001b[0m     decode_coords\u001b[38;5;241m=\u001b[39mdecode_coords,\n\u001b[1;32m    537\u001b[0m )\n",
      "File \u001b[0;32m~/miniconda3/lib/python3.10/site-packages/xarray/backends/plugins.py:177\u001b[0m, in \u001b[0;36mguess_engine\u001b[0;34m(store_spec)\u001b[0m\n\u001b[1;32m    169\u001b[0m \u001b[38;5;28;01melse\u001b[39;00m:\n\u001b[1;32m    170\u001b[0m     error_msg \u001b[38;5;241m=\u001b[39m (\n\u001b[1;32m    171\u001b[0m         \u001b[38;5;124m\"\u001b[39m\u001b[38;5;124mfound the following matches with the input file in xarray\u001b[39m\u001b[38;5;124m'\u001b[39m\u001b[38;5;124ms IO \u001b[39m\u001b[38;5;124m\"\u001b[39m\n\u001b[1;32m    172\u001b[0m         \u001b[38;5;124mf\u001b[39m\u001b[38;5;124m\"\u001b[39m\u001b[38;5;124mbackends: \u001b[39m\u001b[38;5;132;01m{\u001b[39;00mcompatible_engines\u001b[38;5;132;01m}\u001b[39;00m\u001b[38;5;124m. But their dependencies may not be installed, see:\u001b[39m\u001b[38;5;130;01m\\n\u001b[39;00m\u001b[38;5;124m\"\u001b[39m\n\u001b[1;32m    173\u001b[0m         \u001b[38;5;124m\"\u001b[39m\u001b[38;5;124mhttps://docs.xarray.dev/en/stable/user-guide/io.html \u001b[39m\u001b[38;5;130;01m\\n\u001b[39;00m\u001b[38;5;124m\"\u001b[39m\n\u001b[1;32m    174\u001b[0m         \u001b[38;5;124m\"\u001b[39m\u001b[38;5;124mhttps://docs.xarray.dev/en/stable/getting-started-guide/installing.html\u001b[39m\u001b[38;5;124m\"\u001b[39m\n\u001b[1;32m    175\u001b[0m     )\n\u001b[0;32m--> 177\u001b[0m \u001b[38;5;28;01mraise\u001b[39;00m \u001b[38;5;167;01mValueError\u001b[39;00m(error_msg)\n",
      "\u001b[0;31mValueError\u001b[0m: did not find a match in any of xarray's currently installed IO backends ['netcdf4', 'h5netcdf', 'scipy']. Consider explicitly selecting one of the installed engines via the ``engine`` parameter, or installing additional IO dependencies, see:\nhttps://docs.xarray.dev/en/stable/getting-started-guide/installing.html\nhttps://docs.xarray.dev/en/stable/user-guide/io.html"
     ]
    }
   ],
   "source": [
    "ds = xr.open_mfdataset(file_list,drop_variables=['dt_analysis','satellite_zenith_angle','sses_bias','wind speed']).sel(lon=slice(lon_min,lon_max), lat=slice(lat_max,lat_min))"
   ]
  },
  {
   "cell_type": "code",
   "execution_count": null,
   "id": "994b10a2-f861-4104-9368-1739cb9047f5",
   "metadata": {},
   "outputs": [],
   "source": [
    "#  Plot the whole timeseries with hvplot\n",
    "\n",
    "sst = ds.sea_surface_temperature-273.15\n",
    "sst.hvplot(groupby='time', width=600, height=400, clim=(10, 20), cmap='plasma')"
   ]
  },
  {
   "cell_type": "markdown",
   "id": "d922f7c8-bf18-4523-9e64-ef9c42092549",
   "metadata": {},
   "source": [
    "As expected, there are lots of times with no useful data.  (There is an interactive plot above, but it may not render in a static view.)"
   ]
  },
  {
   "cell_type": "markdown",
   "id": "8cea724c-0be0-4e04-bcac-6cbab70f1c73",
   "metadata": {},
   "source": [
    "## Make a metric to select times with clear skies in region of interest\n",
    "\n",
    "The idea here is to choose a box defining region of interest and use quality flag or NaN mask to count bad/good pixels\n"
   ]
  },
  {
   "cell_type": "code",
   "execution_count": null,
   "id": "bab89499-2cca-47e5-a375-f4f4a1dee16c",
   "metadata": {},
   "outputs": [],
   "source": [
    "# Define a box where we want data (may be different than larger analysis domain)\n",
    "# Still centered on lon0,lat0\n",
    "dlon = 0.5 # half of box width in lon\n",
    "dlat = 0.5 # half of box width in lat\n",
    "\n",
    "# Define the max/min lon\n",
    "x1 = lon0 - dlon\n",
    "x2 = lon0 + dlon\n",
    "y1 = lat0 - dlat\n",
    "y2 = lat0 + dlat"
   ]
  },
  {
   "cell_type": "code",
   "execution_count": null,
   "id": "31717cb0-215f-486c-95e0-df400b850d15",
   "metadata": {},
   "outputs": [],
   "source": [
    "# Make a time series in that box\n",
    "# Compute mean value of \"not NaN\" (notnull) in the box\n",
    "good_data = ds.sea_surface_temperature.sel(lat=slice(y2,y1), lon=slice(x1,x2)).notnull().mean({'lon','lat'})\n",
    "np.shape(good_data)"
   ]
  },
  {
   "cell_type": "code",
   "execution_count": null,
   "id": "aae6caf8-992c-44fb-994f-3378213b59bc",
   "metadata": {},
   "outputs": [],
   "source": [
    "fig = plt.figure(figsize=(4,3),dpi=200)\n",
    "plt.plot(good_data['time'],good_data,marker='o')\n",
    "fig.autofmt_xdate()\n",
    "plt.title('Values near 1 indicate clear skies')"
   ]
  },
  {
   "cell_type": "code",
   "execution_count": null,
   "id": "ba86b3cc-6613-4e5e-a663-e971de6c669f",
   "metadata": {},
   "outputs": [],
   "source": [
    "good_times = good_data['time'].where(good_data>0.95,drop=True)\n",
    "np.shape(good_times)"
   ]
  },
  {
   "cell_type": "code",
   "execution_count": null,
   "id": "327267f2-38c3-4a10-b09a-a4f2e65f671f",
   "metadata": {},
   "outputs": [],
   "source": [
    "good_times[-1].values"
   ]
  },
  {
   "cell_type": "markdown",
   "id": "9764efd1-6c87-4d30-bf80-13d7e19d3657",
   "metadata": {},
   "source": [
    "## Choose a particular time\n"
   ]
  },
  {
   "cell_type": "code",
   "execution_count": null,
   "id": "b22ddc94-059a-4026-b605-4b63c9aa1ea9",
   "metadata": {},
   "outputs": [],
   "source": [
    "# Find the data near this time\n",
    "d = good_times[-1] # np.datetime64('2021-11-05T00:00:00Z')"
   ]
  },
  {
   "cell_type": "code",
   "execution_count": null,
   "id": "a2e1ba62-4f5a-4f39-8156-febdf8c2d8de",
   "metadata": {},
   "outputs": [],
   "source": [
    "ds2 = ds.sel(time=d,method='nearest')"
   ]
  },
  {
   "cell_type": "code",
   "execution_count": null,
   "id": "0f24c905-b890-4b24-a60f-a33cbd8560ff",
   "metadata": {},
   "outputs": [],
   "source": [
    "# This string of the time of the SST selected will be useful\n",
    "day_str = np.datetime_as_string(ds2.time,unit='m')"
   ]
  },
  {
   "cell_type": "code",
   "execution_count": null,
   "id": "05187dc7-a2da-4326-96c9-820ec64baaf5",
   "metadata": {},
   "outputs": [],
   "source": [
    "fig = plt.figure()\n",
    "ax = plt.axes(projection = ccrs.PlateCarree(central_longitude=-125))  # Orthographic\n",
    "extent = [lon_min, lon_max,lat_min, lat_max]\n",
    "ax.set_extent(extent, crs=ccrs.PlateCarree())\n",
    "\n",
    "\n",
    "plt.set_cmap(cmap=plt.get_cmap('turbo'))\n",
    "gl = ax.gridlines(draw_labels=True, dms=True, x_inline=False, y_inline=False, alpha=0.5, linestyle='--')\n",
    "gl.top_labels = False\n",
    "gl.right_labels = False\n",
    "ax.set_title('SST, ' + day_str, size = 10.)\n",
    "\n",
    "ax.coastlines()\n",
    "ax.add_feature(cartopy.feature.LAND, zorder=3, facecolor=[.6,.6,.6], edgecolor='black')\n",
    "cs = ax.pcolormesh(ds2.lon,ds2.lat,ds2.sea_surface_temperature.squeeze()-274.15,vmin=12.5,vmax=15,transform=ccrs.PlateCarree())\n",
    "# cs = ax.pcolormesh(ds2.lon,ds2.lat,ds2.sea_surface_temperature.squeeze().notnull(),transform=ccrs.PlateCarree())\n",
    "cb = plt.colorbar(cs,fraction = 0.022,extend='both')\n",
    "cb.set_label('SST [$\\circ$C]',fontsize = 10)\n"
   ]
  },
  {
   "cell_type": "code",
   "execution_count": null,
   "id": "3394ae69-1fa2-4f13-87aa-75857788df81",
   "metadata": {},
   "outputs": [],
   "source": []
  }
 ],
 "metadata": {
  "kernelspec": {
   "display_name": "Python 3 (ipykernel)",
   "language": "python",
   "name": "python3"
  },
  "language_info": {
   "codemirror_mode": {
    "name": "ipython",
    "version": 3
   },
   "file_extension": ".py",
   "mimetype": "text/x-python",
   "name": "python",
   "nbconvert_exporter": "python",
   "pygments_lexer": "ipython3",
   "version": "3.10.8"
  }
 },
 "nbformat": 4,
 "nbformat_minor": 5
}
